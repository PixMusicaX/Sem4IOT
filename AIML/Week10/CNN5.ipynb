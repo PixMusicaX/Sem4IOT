{
 "cells": [
  {
   "cell_type": "code",
   "execution_count": 17,
   "metadata": {},
   "outputs": [],
   "source": [
    "from keras.datasets import mnist\n",
    "(x_train, y_train), (x_test, y_test) = mnist.load_data()"
   ]
  },
  {
   "cell_type": "code",
   "execution_count": 18,
   "metadata": {},
   "outputs": [
    {
     "data": {
      "image/png": "[encoded data removed]",
      "text/plain": [
       "<Figure size 640x480 with 1 Axes>"
      ]
     },
     "metadata": {},
     "output_type": "display_data"
    }
   ],
   "source": [
    "import matplotlib.pyplot as plt\n",
    "n = 3*(int(21))\n",
    "plt.imshow(x_train[n], cmap='gray')\n",
    "plt.show()"
   ]
  },
  {
   "cell_type": "code",
   "execution_count": 19,
   "metadata": {},
   "outputs": [],
   "source": [
    "x_train = x_train.reshape(x_train.shape[0], 28, 28, 1)\n",
    "x_test = x_test.reshape(x_test.shape[0], 28, 28, 1)"
   ]
  },
  {
   "cell_type": "code",
   "execution_count": 20,
   "metadata": {},
   "outputs": [],
   "source": [
    "from keras.utils import np_utils\n",
    "y_train = np_utils.to_categorical(y_train)\n",
    "y_test = np_utils.to_categorical(y_test)"
   ]
  },
  {
   "cell_type": "code",
   "execution_count": 21,
   "metadata": {},
   "outputs": [],
   "source": [
    "from keras.models import Sequential\n",
    "from keras.layers import Conv2D, MaxPooling2D, Flatten, Dense\n",
    "\n",
    "model = Sequential()\n",
    "model.add(Conv2D(8,kernel_size=(3,3),activation='relu',input_shape=(28,28,1)))\n",
    "model.add(MaxPooling2D(pool_size=(2,2)))\n",
    "model.add(Flatten())\n",
    "model.add(Dense(10,activation='softmax'))"
   ]
  },
  {
   "cell_type": "code",
   "execution_count": 22,
   "metadata": {},
   "outputs": [],
   "source": [
    "model.compile(optimizer='adam',loss='categorical_crossentropy',metrics=['accuracy'])"
   ]
  },
  {
   "cell_type": "code",
   "execution_count": 23,
   "metadata": {},
   "outputs": [
    {
     "name": "stdout",
     "output_type": "stream",
     "text": [
      "Epoch 1/10\n",
      "1875/1875 [==============================] - 11s 6ms/step - loss: 1.6967 - accuracy: 0.8996 - val_loss: 0.2816 - val_accuracy: 0.9446\n",
      "Epoch 2/10\n",
      "1875/1875 [==============================] - 10s 5ms/step - loss: 0.1778 - accuracy: 0.9565 - val_loss: 0.1408 - val_accuracy: 0.9609\n",
      "Epoch 3/10\n",
      "1875/1875 [==============================] - 10s 5ms/step - loss: 0.1120 - accuracy: 0.9674 - val_loss: 0.1146 - val_accuracy: 0.9681\n",
      "Epoch 4/10\n",
      "1875/1875 [==============================] - 10s 6ms/step - loss: 0.0945 - accuracy: 0.9718 - val_loss: 0.1119 - val_accuracy: 0.9668\n",
      "Epoch 5/10\n",
      "1875/1875 [==============================] - 10s 6ms/step - loss: 0.0831 - accuracy: 0.9750 - val_loss: 0.1013 - val_accuracy: 0.9717\n",
      "Epoch 6/10\n",
      "1875/1875 [==============================] - 10s 5ms/step - loss: 0.0758 - accuracy: 0.9773 - val_loss: 0.1063 - val_accuracy: 0.9713\n",
      "Epoch 7/10\n",
      "1875/1875 [==============================] - 10s 5ms/step - loss: 0.0696 - accuracy: 0.9784 - val_loss: 0.1017 - val_accuracy: 0.9727\n",
      "Epoch 8/10\n",
      "1875/1875 [==============================] - 10s 6ms/step - loss: 0.0657 - accuracy: 0.9798 - val_loss: 0.1089 - val_accuracy: 0.9733\n",
      "Epoch 9/10\n",
      "1875/1875 [==============================] - 9s 5ms/step - loss: 0.0604 - accuracy: 0.9813 - val_loss: 0.1180 - val_accuracy: 0.9693\n",
      "Epoch 10/10\n",
      "1875/1875 [==============================] - 11s 6ms/step - loss: 0.0584 - accuracy: 0.9827 - val_loss: 0.1163 - val_accuracy: 0.9705\n",
      "313/313 [==============================] - 1s 2ms/step - loss: 0.1163 - accuracy: 0.9705\n",
      "Test loss: 0.11627529561519623\n",
      "Test accuracy: 0.9704999923706055\n"
     ]
    }
   ],
   "source": [
    "history = model.fit(x_train,y_train,batch_size=32,\n",
    "                    epochs=10,\n",
    "                    verbose=1,\n",
    "                    validation_data=(x_test,y_test))\n",
    "score = model.evaluate(x_test,y_test)\n",
    "print('Test loss:', score[0])\n",
    "print('Test accuracy:', score[1])"
   ]
  },
  {
   "cell_type": "code",
   "execution_count": 24,
   "metadata": {},
   "outputs": [
    {
     "name": "stdout",
     "output_type": "stream",
     "text": [
      "Epoch 1/20\n",
      "1875/1875 [==============================] - 11s 6ms/step - loss: 0.0551 - accuracy: 0.9833 - val_loss: 0.1310 - val_accuracy: 0.9713\n",
      "Epoch 2/20\n",
      "1875/1875 [==============================] - 10s 6ms/step - loss: 0.0524 - accuracy: 0.9842 - val_loss: 0.1691 - val_accuracy: 0.9691\n",
      "Epoch 3/20\n",
      "1875/1875 [==============================] - 11s 6ms/step - loss: 0.0465 - accuracy: 0.9857 - val_loss: 0.1408 - val_accuracy: 0.9714\n",
      "Epoch 4/20\n",
      "1875/1875 [==============================] - 11s 6ms/step - loss: 0.0479 - accuracy: 0.9858 - val_loss: 0.1625 - val_accuracy: 0.9726\n",
      "Epoch 5/20\n",
      "1875/1875 [==============================] - 10s 6ms/step - loss: 0.0449 - accuracy: 0.9863 - val_loss: 0.1657 - val_accuracy: 0.9719\n",
      "Epoch 6/20\n",
      "1875/1875 [==============================] - 11s 6ms/step - loss: 0.0466 - accuracy: 0.9862 - val_loss: 0.1611 - val_accuracy: 0.9734\n",
      "Epoch 7/20\n",
      "1875/1875 [==============================] - 10s 6ms/step - loss: 0.0417 - accuracy: 0.9876 - val_loss: 0.1785 - val_accuracy: 0.9711\n",
      "Epoch 8/20\n",
      "1875/1875 [==============================] - 10s 6ms/step - loss: 0.0419 - accuracy: 0.9883 - val_loss: 0.2179 - val_accuracy: 0.9685\n",
      "Epoch 9/20\n",
      "1875/1875 [==============================] - 10s 5ms/step - loss: 0.0389 - accuracy: 0.9883 - val_loss: 0.2450 - val_accuracy: 0.9641\n",
      "Epoch 10/20\n",
      "1875/1875 [==============================] - 10s 6ms/step - loss: 0.0434 - accuracy: 0.9883 - val_loss: 0.2118 - val_accuracy: 0.9732\n",
      "Epoch 11/20\n",
      "1875/1875 [==============================] - 10s 6ms/step - loss: 0.0386 - accuracy: 0.9898 - val_loss: 0.2606 - val_accuracy: 0.9661\n",
      "Epoch 12/20\n",
      "1875/1875 [==============================] - 10s 6ms/step - loss: 0.0352 - accuracy: 0.9900 - val_loss: 0.2100 - val_accuracy: 0.9738\n",
      "Epoch 13/20\n",
      "1875/1875 [==============================] - 10s 6ms/step - loss: 0.0410 - accuracy: 0.9894 - val_loss: 0.2136 - val_accuracy: 0.9722\n",
      "Epoch 14/20\n",
      "1875/1875 [==============================] - 10s 5ms/step - loss: 0.0360 - accuracy: 0.9902 - val_loss: 0.2396 - val_accuracy: 0.9696\n",
      "Epoch 15/20\n",
      "1875/1875 [==============================] - 10s 5ms/step - loss: 0.0399 - accuracy: 0.9900 - val_loss: 0.2541 - val_accuracy: 0.9723\n",
      "Epoch 16/20\n",
      "1875/1875 [==============================] - 10s 5ms/step - loss: 0.0346 - accuracy: 0.9910 - val_loss: 0.2894 - val_accuracy: 0.9724\n",
      "Epoch 17/20\n",
      "1875/1875 [==============================] - 10s 5ms/step - loss: 0.0364 - accuracy: 0.9908 - val_loss: 0.2848 - val_accuracy: 0.9708\n",
      "Epoch 18/20\n",
      "1875/1875 [==============================] - 11s 6ms/step - loss: 0.0347 - accuracy: 0.9914 - val_loss: 0.2721 - val_accuracy: 0.9719\n",
      "Epoch 19/20\n",
      "1875/1875 [==============================] - 11s 6ms/step - loss: 0.0357 - accuracy: 0.9913 - val_loss: 0.3299 - val_accuracy: 0.9707\n",
      "Epoch 20/20\n",
      "1875/1875 [==============================] - 11s 6ms/step - loss: 0.0337 - accuracy: 0.9919 - val_loss: 0.2963 - val_accuracy: 0.9708\n",
      "313/313 [==============================] - 1s 3ms/step - loss: 0.2963 - accuracy: 0.9708\n",
      "Test loss: 0.29628029465675354\n",
      "Test accuracy: 0.97079998254776\n",
      "Epoch 1/30\n",
      "1875/1875 [==============================] - 12s 6ms/step - loss: 0.0360 - accuracy: 0.9916 - val_loss: 0.3351 - val_accuracy: 0.9707\n",
      "Epoch 2/30\n",
      "1875/1875 [==============================] - 12s 6ms/step - loss: 0.0339 - accuracy: 0.9922 - val_loss: 0.3276 - val_accuracy: 0.9688\n",
      "Epoch 3/30\n",
      "1875/1875 [==============================] - 12s 6ms/step - loss: 0.0325 - accuracy: 0.9926 - val_loss: 0.3412 - val_accuracy: 0.9701\n",
      "Epoch 4/30\n",
      "1875/1875 [==============================] - 11s 6ms/step - loss: 0.0338 - accuracy: 0.9925 - val_loss: 0.3319 - val_accuracy: 0.9708\n",
      "Epoch 5/30\n",
      "1875/1875 [==============================] - 11s 6ms/step - loss: 0.0295 - accuracy: 0.9929 - val_loss: 0.3615 - val_accuracy: 0.9694\n",
      "Epoch 6/30\n",
      "1875/1875 [==============================] - 11s 6ms/step - loss: 0.0333 - accuracy: 0.9925 - val_loss: 0.3723 - val_accuracy: 0.9716\n",
      "Epoch 7/30\n",
      "1875/1875 [==============================] - 11s 6ms/step - loss: 0.0320 - accuracy: 0.9928 - val_loss: 0.3781 - val_accuracy: 0.9707\n",
      "Epoch 8/30\n",
      "1875/1875 [==============================] - 11s 6ms/step - loss: 0.0348 - accuracy: 0.9925 - val_loss: 0.3818 - val_accuracy: 0.9706\n",
      "Epoch 9/30\n",
      "1875/1875 [==============================] - 11s 6ms/step - loss: 0.0342 - accuracy: 0.9929 - val_loss: 0.4498 - val_accuracy: 0.9666\n",
      "Epoch 10/30\n",
      "1875/1875 [==============================] - 10s 6ms/step - loss: 0.0305 - accuracy: 0.9933 - val_loss: 0.4299 - val_accuracy: 0.9722\n",
      "Epoch 11/30\n",
      "1875/1875 [==============================] - 10s 5ms/step - loss: 0.0365 - accuracy: 0.9928 - val_loss: 0.4532 - val_accuracy: 0.9713\n",
      "Epoch 12/30\n",
      "1875/1875 [==============================] - 10s 6ms/step - loss: 0.0302 - accuracy: 0.9937 - val_loss: 0.4649 - val_accuracy: 0.9734\n",
      "Epoch 13/30\n",
      "1875/1875 [==============================] - 10s 5ms/step - loss: 0.0348 - accuracy: 0.9936 - val_loss: 0.5031 - val_accuracy: 0.9731\n",
      "Epoch 14/30\n",
      "1875/1875 [==============================] - 10s 5ms/step - loss: 0.0325 - accuracy: 0.9936 - val_loss: 0.5135 - val_accuracy: 0.9727\n",
      "Epoch 15/30\n",
      "1875/1875 [==============================] - 11s 6ms/step - loss: 0.0288 - accuracy: 0.9946 - val_loss: 0.5208 - val_accuracy: 0.9712\n",
      "Epoch 16/30\n",
      "1875/1875 [==============================] - 11s 6ms/step - loss: 0.0349 - accuracy: 0.9931 - val_loss: 0.5107 - val_accuracy: 0.9728\n",
      "Epoch 17/30\n",
      "1875/1875 [==============================] - 10s 6ms/step - loss: 0.0305 - accuracy: 0.9941 - val_loss: 0.5047 - val_accuracy: 0.9711\n",
      "Epoch 18/30\n",
      "1875/1875 [==============================] - 10s 5ms/step - loss: 0.0279 - accuracy: 0.9944 - val_loss: 0.5438 - val_accuracy: 0.9690\n",
      "Epoch 19/30\n",
      "1875/1875 [==============================] - 9s 5ms/step - loss: 0.0324 - accuracy: 0.9940 - val_loss: 0.5891 - val_accuracy: 0.9702\n",
      "Epoch 20/30\n",
      "1875/1875 [==============================] - 10s 5ms/step - loss: 0.0301 - accuracy: 0.9947 - val_loss: 0.5356 - val_accuracy: 0.9724\n",
      "Epoch 21/30\n",
      "1875/1875 [==============================] - 9s 5ms/step - loss: 0.0311 - accuracy: 0.9943 - val_loss: 0.5951 - val_accuracy: 0.9721\n",
      "Epoch 22/30\n",
      "1875/1875 [==============================] - 9s 5ms/step - loss: 0.0322 - accuracy: 0.9946 - val_loss: 0.5823 - val_accuracy: 0.9708\n",
      "Epoch 23/30\n",
      "1875/1875 [==============================] - 11s 6ms/step - loss: 0.0276 - accuracy: 0.9949 - val_loss: 0.6295 - val_accuracy: 0.9722\n",
      "Epoch 24/30\n",
      "1875/1875 [==============================] - 11s 6ms/step - loss: 0.0319 - accuracy: 0.9945 - val_loss: 0.6045 - val_accuracy: 0.9699\n",
      "Epoch 25/30\n",
      "1875/1875 [==============================] - 11s 6ms/step - loss: 0.0330 - accuracy: 0.9946 - val_loss: 0.6085 - val_accuracy: 0.9728\n",
      "Epoch 26/30\n",
      "1875/1875 [==============================] - 11s 6ms/step - loss: 0.0261 - accuracy: 0.9948 - val_loss: 0.6109 - val_accuracy: 0.9722\n",
      "Epoch 27/30\n",
      "1875/1875 [==============================] - 11s 6ms/step - loss: 0.0295 - accuracy: 0.9949 - val_loss: 0.6423 - val_accuracy: 0.9729\n",
      "Epoch 28/30\n",
      "1875/1875 [==============================] - 11s 6ms/step - loss: 0.0313 - accuracy: 0.9946 - val_loss: 0.6376 - val_accuracy: 0.9708\n",
      "Epoch 29/30\n",
      "1875/1875 [==============================] - 11s 6ms/step - loss: 0.0299 - accuracy: 0.9945 - val_loss: 0.6611 - val_accuracy: 0.9720\n",
      "Epoch 30/30\n",
      "1875/1875 [==============================] - 11s 6ms/step - loss: 0.0291 - accuracy: 0.9949 - val_loss: 0.6462 - val_accuracy: 0.9712\n",
      "313/313 [==============================] - 1s 2ms/step - loss: 0.6462 - accuracy: 0.9712\n",
      "Test loss: 0.6461583971977234\n",
      "Test accuracy: 0.9711999893188477\n"
     ]
    },
    {
     "data": {
      "image/png": "[encoded data removed]",
      "text/plain": [
       "<Figure size 640x480 with 1 Axes>"
      ]
     },
     "metadata": {},
     "output_type": "display_data"
    }
   ],
   "source": [
    "history1 = model.fit(x_train,y_train,batch_size=32,\n",
    "                    epochs=20,\n",
    "                    verbose=1,\n",
    "                    validation_data=(x_test,y_test))\n",
    "score1 = model.evaluate(x_test,y_test)\n",
    "print('Test loss:', score1[0])\n",
    "print('Test accuracy:', score1[1])\n",
    "\n",
    "history2 = model.fit(x_train,y_train,batch_size=32,\n",
    "                    epochs=30,\n",
    "                    verbose=1,\n",
    "                    validation_data=(x_test,y_test))\n",
    "score2 = model.evaluate(x_test,y_test)\n",
    "print('Test loss:', score2[0])\n",
    "print('Test accuracy:', score2[1])\n",
    "\n",
    "plt.plot(history.history['accuracy'], label='10 epochs')\n",
    "plt.plot(history1.history['accuracy'], label='20 epochs')\n",
    "plt.plot(history2.history['accuracy'], label='30 epochs')\n",
    "plt.title('Model Accuracy')\n",
    "plt.ylabel('Accuracy')\n",
    "plt.xlabel('Epoch')\n",
    "plt.legend(loc='upper left')\n",
    "plt.show()"
   ]
  }
 ],
 "metadata": {
  "kernelspec": {
   "display_name": "Python 3",
   "language": "python",
   "name": "python3"
  },
  "language_info": {
   "codemirror_mode": {
    "name": "ipython",
    "version": 3
   },
   "file_extension": ".py",
   "mimetype": "text/x-python",
   "name": "python",
   "nbconvert_exporter": "python",
   "pygments_lexer": "ipython3",
   "version": "3.10.10"
  },
  "orig_nbformat": 4
 },
 "nbformat": 4,
 "nbformat_minor": 2
}
